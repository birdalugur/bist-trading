{
 "cells": [
  {
   "cell_type": "code",
   "execution_count": null,
   "metadata": {},
   "outputs": [],
   "source": [
    "import numpy as np\n",
    "import pandas as pd\n",
    "from typing import Union\n",
    "from itertools import combinations\n",
    "import statsmodels.api as sm\n",
    "import random\n",
    "import plotly.express as px"
   ]
  },
  {
   "cell_type": "code",
   "execution_count": null,
   "metadata": {},
   "outputs": [],
   "source": [
    "import mydata\n",
    "import wavelets\n",
    "import residual\n",
    "import selling"
   ]
  },
  {
   "cell_type": "markdown",
   "metadata": {},
   "source": [
    "## Read data"
   ]
  },
  {
   "cell_type": "code",
   "execution_count": null,
   "metadata": {},
   "outputs": [],
   "source": [
    "folder_path = '/home/ugur/bistlmts/data/BIST_Eylul/'"
   ]
  },
  {
   "cell_type": "code",
   "execution_count": null,
   "metadata": {},
   "outputs": [],
   "source": [
    "data = mydata.read(folder_path)"
   ]
  },
  {
   "cell_type": "markdown",
   "metadata": {},
   "source": [
    "## Calculate the middle price"
   ]
  },
  {
   "cell_type": "code",
   "execution_count": null,
   "metadata": {},
   "outputs": [],
   "source": [
    "data['mid_price'] = (data['bid_price'] + data['ask_price']) / 2\n",
    "\n",
    "# Create a pivot table using mid price, symbol and time, if two\n",
    "mid_price = data.pivot_table(index='time', columns='symbol', values='mid_price', aggfunc='mean')"
   ]
  },
  {
   "cell_type": "code",
   "execution_count": null,
   "metadata": {},
   "outputs": [],
   "source": [
    "# Convert to 1 minute data for every day (agg func = mean, alternatives: median;...)\n",
    "mid_price = mid_price.groupby(pd.Grouper(freq='D')).resample('1Min').mean().droplevel(0)\n",
    "\n",
    "# fill nan values (ignore end of the day)\n",
    "mid_price = mid_price.resample('D').apply(lambda x: x.apply(lambda x: x[:x.last_valid_index()].ffill()))\n",
    "mid_price = mid_price.droplevel(0)"
   ]
  },
  {
   "cell_type": "markdown",
   "metadata": {},
   "source": [
    "## Select a pair"
   ]
  },
  {
   "cell_type": "code",
   "execution_count": null,
   "metadata": {},
   "outputs": [],
   "source": [
    "pair_name = mydata.pair_names[0]"
   ]
  },
  {
   "cell_type": "code",
   "execution_count": null,
   "metadata": {},
   "outputs": [],
   "source": [
    "pair = mid_price.loc[:,pair_name]"
   ]
  },
  {
   "cell_type": "code",
   "execution_count": null,
   "metadata": {},
   "outputs": [],
   "source": [
    "method = 'std'"
   ]
  },
  {
   "cell_type": "code",
   "execution_count": null,
   "metadata": {},
   "outputs": [],
   "source": [
    "pair"
   ]
  },
  {
   "cell_type": "code",
   "execution_count": null,
   "metadata": {},
   "outputs": [],
   "source": []
  },
  {
   "cell_type": "code",
   "execution_count": null,
   "metadata": {
    "scrolled": false
   },
   "outputs": [],
   "source": [
    "## R Wavelets\n",
    "if method == 'mra':\n",
    "    residuals = wavelets.roll_mra(pair,50)\n",
    "## Residuals\n",
    "elif method =='std':\n",
    "    residuals = residual.rollPair(pair,50)"
   ]
  },
  {
   "cell_type": "markdown",
   "metadata": {},
   "source": [
    "## Calculate std"
   ]
  },
  {
   "cell_type": "code",
   "execution_count": null,
   "metadata": {
    "scrolled": true
   },
   "outputs": [],
   "source": [
    "std = residuals.rolling(window=50,min_periods=0).std().rename('std')"
   ]
  },
  {
   "cell_type": "markdown",
   "metadata": {},
   "source": [
    "## Find signals"
   ]
  },
  {
   "cell_type": "code",
   "execution_count": null,
   "metadata": {},
   "outputs": [],
   "source": [
    "signal_1, signal_2 = selling.get_signal(residuals,std)"
   ]
  },
  {
   "cell_type": "code",
   "execution_count": null,
   "metadata": {},
   "outputs": [],
   "source": [
    "all_signal  = pd.Series([i or j for i,j in zip(signal_1,signal_2)],index = signal_1.index)"
   ]
  },
  {
   "cell_type": "markdown",
   "metadata": {},
   "source": [
    "## Mark entry - exit points"
   ]
  },
  {
   "cell_type": "code",
   "execution_count": null,
   "metadata": {},
   "outputs": [],
   "source": [
    "entry_points_s1, exit_points_1 = selling.signal_points(signal_1)\n",
    "\n",
    "entry_points_s2, exit_points_2 = selling.signal_points(signal_2)\n",
    "\n",
    "entry_points, exit_points = selling.signal_points(all_signal)\n",
    "\n",
    "entry_points = entry_points[0:len(exit_points)]\n",
    "\n",
    "entry_exit = list(zip(entry_points,exit_points))"
   ]
  },
  {
   "cell_type": "markdown",
   "metadata": {},
   "source": [
    "## Calculation long / short selling"
   ]
  },
  {
   "cell_type": "code",
   "execution_count": null,
   "metadata": {},
   "outputs": [],
   "source": [
    "return_short_s1 = -selling.calc_selling(pair[pair_name[0]], entry_points_s1, exit_points_1)\n",
    "\n",
    "return_long_s1 = selling.calc_selling(pair[pair_name[1]], entry_points_s1, exit_points_1)\n",
    "\n",
    "return_short_s2 = selling.calc_selling(pair[pair_name[0]], entry_points_s2, exit_points_2)\n",
    "\n",
    "return_long_s2 = -selling.calc_selling(pair[pair_name[1]], entry_points_s2, exit_points_2)\n",
    "\n",
    "return_s1 = return_short_s1+return_long_s1\n",
    "\n",
    "return_s2 = return_short_s2+return_long_s2"
   ]
  },
  {
   "cell_type": "code",
   "execution_count": null,
   "metadata": {},
   "outputs": [],
   "source": [
    "return_total = return_s1.append(return_s2).sort_index()"
   ]
  },
  {
   "cell_type": "markdown",
   "metadata": {},
   "source": [
    "## All Trades"
   ]
  },
  {
   "cell_type": "code",
   "execution_count": null,
   "metadata": {},
   "outputs": [],
   "source": [
    "returns = return_total.dropna()"
   ]
  },
  {
   "cell_type": "code",
   "execution_count": null,
   "metadata": {},
   "outputs": [],
   "source": [
    "trades = []"
   ]
  },
  {
   "cell_type": "code",
   "execution_count": null,
   "metadata": {},
   "outputs": [],
   "source": [
    "for start, end in entry_exit:\n",
    "    trades.append(returns.loc[start:end])"
   ]
  },
  {
   "cell_type": "code",
   "execution_count": null,
   "metadata": {},
   "outputs": [],
   "source": [
    "duration = [end-start for start, end in entry_exit]"
   ]
  },
  {
   "cell_type": "markdown",
   "metadata": {},
   "source": [
    "## Last of Trades"
   ]
  },
  {
   "cell_type": "code",
   "execution_count": null,
   "metadata": {
    "scrolled": true
   },
   "outputs": [],
   "source": [
    "# Her bir trade'i numaralandır, NaN'ları hariç tutar\n",
    "get_trade_number=lambda x :(~(x.isna().cumsum()[x.notna()].duplicated())).cumsum()\n",
    "\n",
    "def last_of_trade(trade):\n",
    "    trade_number= trade.to_frame().assign(number=get_trade_number(trade)).reset_index()\n",
    "    return trade_number.groupby('number').last()"
   ]
  },
  {
   "cell_type": "code",
   "execution_count": null,
   "metadata": {},
   "outputs": [],
   "source": [
    "last_return_short_s1 = last_of_trade(return_short_s1)\n",
    "last_return_long_s1 = last_of_trade(return_long_s1)\n",
    "last_return_short_s2 = last_of_trade(return_short_s2)\n",
    "last_return_long_s2 = last_of_trade(return_long_s2)"
   ]
  },
  {
   "cell_type": "markdown",
   "metadata": {},
   "source": [
    "### Number of trades"
   ]
  },
  {
   "cell_type": "code",
   "execution_count": null,
   "metadata": {},
   "outputs": [],
   "source": [
    "# trade bitimi-time series\n",
    "get_number = lambda x: x['time'].reset_index().set_index('time')['number']"
   ]
  },
  {
   "cell_type": "code",
   "execution_count": null,
   "metadata": {},
   "outputs": [],
   "source": [
    "lastnumber_return_1 = get_number(last_return_short_s1)\n",
    "lastnumber_return_2 = get_number(last_return_short_s2)"
   ]
  },
  {
   "cell_type": "code",
   "execution_count": null,
   "metadata": {},
   "outputs": [],
   "source": [
    "number_return_1 = get_trade_number(return_long_s1)\n",
    "number_return_2 = get_trade_number(return_long_s2)"
   ]
  },
  {
   "cell_type": "markdown",
   "metadata": {},
   "source": [
    "### Last of trades"
   ]
  },
  {
   "cell_type": "code",
   "execution_count": null,
   "metadata": {},
   "outputs": [],
   "source": [
    "last_return_short_s1=last_return_short_s1.set_index('time').iloc[:,-1].rename('last_return_short_s1')\n",
    "last_return_long_s1=last_return_long_s1.set_index('time').iloc[:,-1].rename('last_return_long_s1')\n",
    "last_return_short_s2=last_return_short_s2.set_index('time').iloc[:,-1].rename('last_return_short_s2')\n",
    "last_return_long_s2=last_return_long_s2.set_index('time').iloc[:,-1].rename('last_return_long_s2')\n",
    "\n",
    "last_return_s1 = last_return_short_s1+last_return_long_s1\n",
    "last_return_s2 = last_return_short_s2+last_return_long_s2"
   ]
  },
  {
   "cell_type": "code",
   "execution_count": null,
   "metadata": {},
   "outputs": [],
   "source": [
    "last_return_total = pd.concat(list(map(lambda x: x.tail(1),trades)))"
   ]
  },
  {
   "cell_type": "markdown",
   "metadata": {},
   "source": [
    "## Cumulative sum"
   ]
  },
  {
   "cell_type": "code",
   "execution_count": null,
   "metadata": {},
   "outputs": [],
   "source": [
    "c_return_short_s1 =last_return_short_s1.cumsum()\n",
    "c_return_long_s1 = last_return_long_s1.cumsum()\n",
    "\n",
    "c_return_short_s2 = last_return_short_s2.cumsum()\n",
    "c_return_long_s2 = last_return_long_s2.cumsum()\n",
    "\n",
    "c_return_s1 = c_return_short_s1 + c_return_long_s1\n",
    "c_return_s2 = c_return_short_s2 + c_return_long_s2"
   ]
  },
  {
   "cell_type": "code",
   "execution_count": null,
   "metadata": {},
   "outputs": [],
   "source": [
    "c_return_total = last_return_total.cumsum()"
   ]
  },
  {
   "cell_type": "markdown",
   "metadata": {},
   "source": [
    "## Stats"
   ]
  },
  {
   "cell_type": "markdown",
   "metadata": {},
   "source": [
    "### Median return per trade"
   ]
  },
  {
   "cell_type": "code",
   "execution_count": null,
   "metadata": {
    "scrolled": false
   },
   "outputs": [],
   "source": [
    "median_short_s1 = last_return_short_s1.median()\n",
    "median_short_s2 = last_return_short_s2.median()\n",
    "median_long_s1 = last_return_long_s1.median()\n",
    "median_long_s2 = last_return_long_s1.median()\n",
    "\n",
    "median_s1 = last_return_s1.median()\n",
    "median_s2 = last_return_s2.median()"
   ]
  },
  {
   "cell_type": "code",
   "execution_count": null,
   "metadata": {},
   "outputs": [],
   "source": [
    "median_total = last_return_total.median()"
   ]
  },
  {
   "cell_type": "markdown",
   "metadata": {},
   "source": [
    "### Average duration of trades "
   ]
  },
  {
   "cell_type": "code",
   "execution_count": null,
   "metadata": {},
   "outputs": [],
   "source": [
    "duration_s1 = exit_points_1 - entry_points_s1[0:len(exit_points_1)]\n",
    "duration_s2 = exit_points_2 - entry_points_s2[0:len(exit_points_2)]\n",
    "avg_duration_s1 = duration_s1.seconds.to_series().mean()\n",
    "avg_duration_s2 = duration_s2.seconds.to_series().mean()"
   ]
  },
  {
   "cell_type": "code",
   "execution_count": null,
   "metadata": {},
   "outputs": [],
   "source": [
    "duration_trades_mean = pd.Series(duration).mean()"
   ]
  },
  {
   "cell_type": "markdown",
   "metadata": {},
   "source": [
    "### Median duration of trades"
   ]
  },
  {
   "cell_type": "code",
   "execution_count": null,
   "metadata": {},
   "outputs": [],
   "source": [
    "median_duration_s1 = duration_s1.median()\n",
    "median_duration_s2 = duration_s2.median()"
   ]
  },
  {
   "cell_type": "code",
   "execution_count": null,
   "metadata": {},
   "outputs": [],
   "source": [
    "duration_trades_median = pd.Series(duration).median()"
   ]
  },
  {
   "cell_type": "markdown",
   "metadata": {},
   "source": [
    "### Number trades"
   ]
  },
  {
   "cell_type": "code",
   "execution_count": null,
   "metadata": {},
   "outputs": [],
   "source": [
    "number_trades = len(trades)"
   ]
  },
  {
   "cell_type": "markdown",
   "metadata": {},
   "source": [
    "### Mean return per trade (CReturn'un en son hanesi / # trades) "
   ]
  },
  {
   "cell_type": "code",
   "execution_count": null,
   "metadata": {},
   "outputs": [],
   "source": [
    "mean_cs1 = c_return_s1[-1]/len(c_return_s1)\n",
    "mean_cs2 = c_return_s2[-1]/len(c_return_s2)"
   ]
  },
  {
   "cell_type": "code",
   "execution_count": null,
   "metadata": {},
   "outputs": [],
   "source": [
    "c_return = c_return_total[-1]"
   ]
  },
  {
   "cell_type": "code",
   "execution_count": null,
   "metadata": {},
   "outputs": [],
   "source": [
    "c_return_per_trade = c_return/number_trades"
   ]
  },
  {
   "cell_type": "markdown",
   "metadata": {},
   "source": [
    "## Stats Dataframe"
   ]
  },
  {
   "cell_type": "code",
   "execution_count": null,
   "metadata": {},
   "outputs": [],
   "source": [
    "cols = ['c_return', 'c_return_per_trade', 'number_trades', 'duration_trades_mean', 'duration_trades_median']"
   ]
  },
  {
   "cell_type": "code",
   "execution_count": null,
   "metadata": {},
   "outputs": [],
   "source": [
    "stats_name ='_'.join(pair_name) + '_std'"
   ]
  },
  {
   "cell_type": "code",
   "execution_count": null,
   "metadata": {},
   "outputs": [],
   "source": [
    "stats = pd.DataFrame([[c_return,c_return_per_trade,number_trades,duration_trades_mean,duration_trades_median]\n",
    "    ], columns=cols, index=[stats_name], \n",
    ")\n",
    "\n",
    "stats"
   ]
  },
  {
   "cell_type": "markdown",
   "metadata": {},
   "source": [
    "## Visualize results"
   ]
  },
  {
   "cell_type": "code",
   "execution_count": null,
   "metadata": {},
   "outputs": [],
   "source": [
    "import plotly.graph_objects as go"
   ]
  },
  {
   "cell_type": "code",
   "execution_count": null,
   "metadata": {},
   "outputs": [],
   "source": [
    "bar = go.Figure(go.Bar(name='last trade', x=last_return_total.index, y=last_return_total.values))"
   ]
  },
  {
   "cell_type": "code",
   "execution_count": null,
   "metadata": {},
   "outputs": [],
   "source": [
    "bar.show()"
   ]
  },
  {
   "cell_type": "markdown",
   "metadata": {},
   "source": [
    "### Cumulative return"
   ]
  },
  {
   "cell_type": "code",
   "execution_count": null,
   "metadata": {},
   "outputs": [],
   "source": [
    "fig_ctotal = go.Figure()\n",
    "\n",
    "fig_ct = go.Scatter(x=c_return_total.index,y=c_return_total, mode='lines',name='total cumulative return')\n",
    "\n",
    "fig_ctotal.add_trace(fig_ct)\n",
    "fig_ctotal.show()"
   ]
  },
  {
   "cell_type": "code",
   "execution_count": null,
   "metadata": {
    "scrolled": false
   },
   "outputs": [],
   "source": [
    "fig_cum_return = go.Figure()\n",
    "\n",
    "fig_s1 = go.Scatter(x=c_return_s1.index,y=c_return_s1, mode='lines',name='cumulative return s1')\n",
    "\n",
    "fig_s2 = go.Scatter(x=c_return_s2.index,y=c_return_s2, mode='lines',name='cumulative return s2')\n",
    "\n",
    "fig_cum_return.update_layout(xaxis_title='time',yaxis_title='cumulative return')\n",
    "\n",
    "fig_cum_return.add_traces([fig_s1,fig_s2])\n",
    "\n",
    "fig_cum_return.show()"
   ]
  },
  {
   "cell_type": "markdown",
   "metadata": {},
   "source": [
    "# Variables\n",
    "# ---------\n",
    "\n",
    "pair,    # mid price\n",
    "residual,\n",
    "std, \n",
    "signal_1,\n",
    "signal_2,\n",
    "\n",
    "# Tradelerin başlangıç ve bitişini gösteren DatetimeIndex.\n",
    "entry_points_s1,\n",
    "entry_points_s2,\n",
    "exit_points_1,\n",
    "exit_points_2,\n",
    "\n",
    "# (exit-entry)/entry ile hesaplanmış tüm returnler.\n",
    "return_short_s1,\n",
    "return_short_s2,\n",
    "return_long_s1,\n",
    "return_long_s2,\n",
    "\n",
    "return_s1,\n",
    "return_s2,\n",
    "return_total,\n",
    "\n",
    "# Last of trades.\n",
    "last_return_short_s1,\n",
    "last_return_long_s1,\n",
    "last_return_short_s2,\n",
    "last_return_long_s2,\n",
    "\n",
    "last_return_s1,   # last_return_short_s1+last_return_long_s1\n",
    "last_return_s2,\n",
    "last_return_total,\n",
    "\n",
    "# Number of trades\n",
    "lastnumber_return_1,\n",
    "lastnumber_return_2,\n",
    "\n",
    "number_return_1,\n",
    "number_return_2,\n",
    "\n",
    "# Cumulative\n",
    "c_return_short_s1,\n",
    "c_return_long_s1,\n",
    "c_return_short_s2,\n",
    "c_return_long_s2,\n",
    "\n",
    "c_return_s1, # c_return_short_s1 + c_return_long_s1\n",
    "c_return_s2,\n",
    "c_return_total,\n",
    "\n",
    "# Median\n",
    "median_s1,\n",
    "median_s2,\n",
    "median_total,\n",
    "\n",
    "median_duration_s1,\n",
    "median_duration_s2,\n",
    "\n",
    "# Mean\n",
    "mean_ctotal,\n",
    "mean_cs1,\n",
    "mean_cs2,\n",
    "\n",
    "avg_duration_s1,\n",
    "avg_duration_s2\n",
    "\n",
    "None"
   ]
  }
 ],
 "metadata": {
  "kernelspec": {
   "display_name": "Python 3",
   "language": "python",
   "name": "python3"
  },
  "language_info": {
   "codemirror_mode": {
    "name": "ipython",
    "version": 3
   },
   "file_extension": ".py",
   "mimetype": "text/x-python",
   "name": "python",
   "nbconvert_exporter": "python",
   "pygments_lexer": "ipython3",
   "version": "3.8.5"
  }
 },
 "nbformat": 4,
 "nbformat_minor": 4
}
